# Session 6 - Semantic Image Segmentation

​																(From Kmeans to RefineNet)

#### :: *Solaris*

## 목차

- 강의 평가 
  1. 강의 내용
  2. 참여인원
  3. 강의 진도 체크 
  4. 강의 평가 
  5. 질의 응답 내용 
- 강의 내용 정리 

------

## 강의 평가

1. 강의 내용 


1. 참여 인원 :: **20명**/24명( 중간 중간 나가서 마지막엔 18명)

2. 강의 진도 체크 

   ​

3. 강의 평가 :: **8 / 10** 

   ​

4. 질의 응답 내용

   fcn 도 resnet에 실험해봤을 때, 성능이 잘 나왔는가? 그렇다. 

   dialect conv 는 Sementic에서만 많이 사용하는 추세이다. 

   FCN - Skip layer 를 제거해도 어느정도 괜찮다. 

   dialect conv  - Tensorflow에서 레퍼 된다. 

   image 저수준의 label로 sementic 이 수행 될 수 있는지 - 앞으로의 도전이고, 이렇다할 결과가 있는 것은 아직 없는 것 같다. 

   마지막 실제로 구현한 것을 보여주심 

------

## <u>강의 내용 정리</u>

