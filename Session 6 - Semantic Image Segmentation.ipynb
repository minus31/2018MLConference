{
 "cells": [
  {
   "cell_type": "markdown",
   "metadata": {},
   "source": [
    "# Session 6 - Semantic Image Segmentation\n",
    "\n",
    "​\t\t\t\t\t\t\t\t\t\t\t\t\t\t\t\t(From Kmeans to RefineNet)\n",
    "\n",
    "#### :: *Solaris*\n",
    "\n",
    "## 목차\n",
    "\n",
    "- 강의 평가 \n",
    "  1. 강의 내용\n",
    "  2. 참여인원\n",
    "  3. 강의 진도 체크 \n",
    "  4. 강의 평가 \n",
    "  5. 질의 응답 내용 \n",
    "- 강의 내용 정리 \n",
    "\n",
    "------\n",
    "\n",
    "## 강의 평가\n",
    "\n",
    "1. 강의 내용 \n",
    "\n",
    "\n",
    "1. 참여 인원 :: **20명**/24명( 중간 중간 나가서 마지막엔 18명)\n",
    "\n",
    "2. 강의 진도 체크 \n",
    "\n",
    "   ​\n",
    "\n",
    "3. 강의 평가 :: **8 / 10** \n",
    "\n",
    "   ​\n",
    "\n",
    "4. 질의 응답 내용\n",
    "\n",
    "   fcn 도 resnet에 실험해봤을 때, 성능이 잘 나왔는가? 그렇다. \n",
    "\n",
    "   dialect conv 는 Sementic에서만 많이 사용하는 추세이다. \n",
    "\n",
    "   FCN - Skip layer 를 제거해도 어느정도 괜찮다. \n",
    "\n",
    "   dialect conv  - Tensorflow에서 레퍼 된다. \n",
    "\n",
    "   image 저수준의 label로 sementic 이 수행 될 수 있는지 - 앞으로의 도전이고, 이렇다할 결과가 있는 것은 아직 없는 것 같다. \n",
    "\n",
    "   마지막 실제로 구현한 것을 보여주심 \n",
    "\n",
    "------\n",
    "\n",
    "## <u>강의 내용 정리</u>\n",
    "\n"
   ]
  }
 ],
 "metadata": {
  "kernelspec": {
   "display_name": "Python 3",
   "language": "python",
   "name": "python3"
  },
  "language_info": {
   "codemirror_mode": {
    "name": "ipython",
    "version": 3
   },
   "file_extension": ".py",
   "mimetype": "text/x-python",
   "name": "python",
   "nbconvert_exporter": "python",
   "pygments_lexer": "ipython3",
   "version": "3.6.1"
  }
 },
 "nbformat": 4,
 "nbformat_minor": 2
}
