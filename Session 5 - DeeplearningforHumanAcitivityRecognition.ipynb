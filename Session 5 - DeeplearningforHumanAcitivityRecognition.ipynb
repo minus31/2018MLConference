# Session 5 - Deep learning for Human Activity Recognition with inertial sensors. 

#### :: *오 영민*

## 목차

- 강의 평가 
  1. 강의 내용
  2. 참여인원
  3. 강의 진도 체크 
  4. 강의 평가 
  5. 질의 응답 내용 
- 강의 내용 정리 

------

## 강의 평가

1. 강의 내용 

   사람들의 동작에 대한 정보, 특히 wearable 기계들에게서 얻는 동작에 관한 다중 시그널 데이터를 사용한 딥러닝 알고리즘으로 기본적인 인간의 동작을 Detecting 하는 것에 대해 강의 하셨다. 


1. 참여 인원 :: **20명**/24명

2. 강의 진도 체크 

   주어진 분량을 모두 진행 했지만, 앞의 내용에 시간을 많이 쓰고, 뒤의  Additional papers 부분은 소개 정도만 했다. 강의 마지막 10분 동안 질문 받는 시간을 가지기도 했기때문에, 시간관리는 잘 하셨다고 생각한다. 

3. 강의 평가 :: **6 / 10** 

   전체적으로 강사님이 듣는 사람들을 배려하면서, 강의를 진행 했다고 생각한다. 호응이 없는 사람들 앞에 나와 호응을 얻으려 한다던가, 청자의 수준을 파악하려 하셨다.끝에는 질문을 받는 시간을 따로 할애했다. 강의 내용에 관하여, 강의가 다루는 내용은 지금까지의 강의에 비하면, 다소 기초적인 Deep learning 내용을 다루었다고 생각한다. 지금 동작인식의 도메인에서 사용되는 알고리즘과 방법론이 대부분 다른 분야의 것들을 차용해 쓰고 있기 때문이라고 설명하셨던게 그 이유가 될 것 같다. 강의 처음 동작을 감지하는 센서에 관한 이야기를 간단하게 마치고, 기초적인 CNN/ RNN 등의 내용을 설명하는데, 개인적으로 생각하기엔, 많은 시간을 할애했다고 생각한다. 지금까지의 강의의 수준에 비추어 생각해보면, 대부분의 수강생들은 기본적으로 Deeplearning에 대한 기본을 넘는 지식을 가지고 있다고 생각했다. 강의 40 ~ 50 분 동안 도메인에 관한 내용이라기 보다, 기본적인 Deeplearning 강의를 해주셨다고 생각했다. 논문에 대한 설명시간이 비교적 부족했다고 생각했다. 연사님의 설명처럼, 동작인식 도메인에는 Dominant한 논문이 없었기 때문에, 메인으로 선정된 논문을 훓고 나서는, 몇몇 논문의 연구의 내용과 성과정도만 언급하고 넘어가셨다. 이 도메인의 State of Art에 관 한 것을 조금 더 자세히 가르쳐 줬으면 했다. 

4. 질의 응답 내용

   * 센서 데이터의 노이즈는 어떻게 필터링 하는가? 

     **답변** : 간단한 정도의 노이즈 제거가 필요하면, 기본적인 수준의 Scaling정도와 이상치 제거정도는 하고 시작하라고 하셨다. 

   * 동영상으로 물리량 예측을 하는 연구를 하고 있는데, 파형끼리 시밀러리티를 비교하는 것 어떤게 있을까요 ?

     **답변** : 패턴의 유사도를 구하기 위해서는 사용해본 것은, 신호를 Spectrum으로 바꾼다던가, Dynamic time walk를 적용해봤다. 

   * Unlabled data에 대한 연구는 얼마나 진행이 되었는가 ? 

     **답변** : Main으로 연구되어지고 있지는 않지만, hierarchical clustering에 대한 연구는 본 적있다. 

   * CNN-LSTM 에서도 flattening을 따로 해주는가? 

     **답변** : Convolution Layer를 끝내고, LSTM으로 들어가면서 Flatten 한다. 

   * 이 분야도 Labeling은 사람이 해야하는가 ?

     **답변** : 그렇다. 

   * 본인 회사인 Neofect 에서 하는 일은 무엇이고, 그 수요는 어디에 있는가? 

     **답변** : 재활 운동을 하는 사람들이 착용하는 센서가 attached되어 있는 글러브에서 얻는 데이터를 이용해, 사용자의 움직을 분석하여 올바른 움직임을 유도하거나, 나은 치료방법을 추천하는 등의 일을 하고 있고, 관련된 병원에서 그 수요가 있다. 

   * 같은 센서라도 사용자마다 나오는 데이터가 다를텐데, 그냥 그 데이터를 가져와도 써도 되는가 ?

     **답변** : 실제로 연구한 것이 실제로 적용되기 힘든 이유이다. 개인마다 나오는 데이터가 달라지고, 상요시의 센서의 위치에 따라서도 데이터는 변동하기 때문에, 이를 극복하는 것이 미래의 연구 방향이다. 

   * Sliding window를 사용하려면, labeling은 어떻게 해야하는가 ? 

------

## <u>강의 내용 정리</u>

### 1. Introduction

: IoT의 확산으로 여러 사물에게 센서가 달려, 인간에의 Interactive한 정보들이 쌓여간다. 이 번 강연은 Wearable 스마트 기기들을 통해 얻어지는 인간의 움직임을 연구하는데에 집중 할 것이다. ( 업계에 Dominant한 Paper는 아직 없으며, 다른 분야의 방법론을 차용해서 사용하고 있다.) 옛날 부터 여러 방법으로 사람의 움직임을 간소화하여 이해 하려는 시도가 있었다. (1973년도 visual perceptron 방법론 예) 이런 정보들을 보고, 사람은 그 행동이 뭔지 꽤 높은 정확도로 맞출 수 있었다. 이 후, 모션인식을 연구하기 위해서, 여러 장비들이 발명 되었다. 그러나 이들은 매우 비쌌고, 이로 얻을 수 있는 것은 일반론적인 내용에 관한 인사이트에 머물렀다. 현재는 모두가 가지고 있는 스마트폰에도, 9개 채널 종류의 시그널 데이터를 얻을 수 있는 센서가 부착되어 있다. ( 관성 센서, Neofect 또한 이 센서를 재활치료용 글러브에 부착하여, 연구와 사업을 진행하고 있다고 한다.)

##### 관련된 Deep learning Algorithm (이 부분에 거의 40분을 소요)

**CNN** - Convolution filter를 통과 시켜, 특징값을 추출 하고, 차원을 축소 시켜, 패턴을 더 잘 찾을 수 있도록 학습 시킨다. 

**RNN** - FFNN의 구조에서 중간의 Hidden state 의 vector 를 다음 타임스텝에 반영 하여 연산 하면서, 시계열 데이터를 처리 할 수 있게 한다. 

**LSTM** - RNN이 가지는 Long-Term Dependency 를 극복하기 위해서 발명된 알고리즘, Gredient가 시간에 따라 더 잘 흘러 가게 한다. 

### 2. Main Papers

#### Dataset  

> **Opportunity** ; IMU(Inertial Measurement Units, with 7 or 9 sensors) 
>
> **Body-worn inertial Sensors** 
>
> :: 두 데이터 셋은 기본적으로는 비슷하고, 라벨에 포함된 행동에 다소 차이점 이있다. Opportunity에 더 많은 채널의 sensor가 있기 때문에  더 많이 사용된다고 한다. 

#### Activity Recognition`s topics 

> 1. Common Research ; Intra-class Variability / Similarity , Null-class Problem 
>
> 2. Specific to Human Activity Recognition ; Definition and diversity of Physical Acitivity
>
>    ( 어려운 점 :  Class Imbalance, Ground Truth Annotation, Data Collection & experiment Designing)

#### Deep Learning fo Sensor-based Activity Recognition: A survey 

Modality : Body-worn, Object, Ambient, Hybrid 

Models : DNN, CNN, RNN, DBN/RBM, SAE, Hybrid(Combination of deep learning models)

분석 흐름 ; Signal(INPUT) -> Feature extraction -> Model training -> Model training -> Activity detected

 Datasets : 19가지의 데이터를 사용해 연구진행 (위의 두 데이터셋을 포함, UCI smartphone(가장 common한 데이터))

가장 좋았던 모델 : Bi-directional LSTM-S ( metric: 92.70 )

#### Deep Convolutional and LSTM Recurrent Neural Networks for Multimodel wearable Activity Recognition 

Temporal Covolution 적용 ; 시간을 고려한 convolutinal network

> $a_j^{l+1}(\tau) = \sigma(b_j^l + \sum_{f=1}^{F^l}k_{jf}^l(\tau)*a_f^l(\tau)) = \sigma( b_j^l + \sum_{f=1}^{F^l}[\sum_{p=1}^{p^i}K^l_{jf}(p)a_f^l(\tau- p)  ]  )$ 

모델 구조 ; INPUT -> Convolution x 5 -> Dense layer x 2 -> Softmax

행동간의 차이점과 유사점을 한눈에 볼 수 있다. 

* Opportunity datasets에 대하여, DeepConvLSTM이 가장 좋은 성능을 보였다. 
* 데이터 내에서, 여러 센서를 한번에 학습할 때, 성능이 더 좋았다.(F1score : 0.864)

#### Deep, Convolutional and Recurrent Models for HAR using Wearables 

:: LSTM의 결과를 Convolution layer 에 통과 시키는 구조 ; 실시간으로 분석은 어렵다는 단점이 있다. 

#### UniMiB SHAR: A dataset for JAR using acceleration Data from Smartphones

:: Dataset이 일상적인 자료라서 큰 파급 효과를 기대한다.

:: 넘어지는 것 만 다룬다. Falling backward/forward /sideward, Specific fail

### 3. Additional Papers

**실습시 추천 Datasets** ;

UCF101, THUMOS-14, THUMOS-15

**한 번 읽어 볼 것** ;

Dense Labeling with fully Convolutional Neural Networks - Sliding window 적용

Convolutional Deep Belife Networks fo scalable Unsupervised Learning of Hierarchical Representations





